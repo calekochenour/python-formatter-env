{
 "cells": [
  {
   "cell_type": "markdown",
   "metadata": {},
   "source": [
    "# Jupyter Notebook Formatter Example\n",
    "\n",
    "This notebook demonstrates the functionality of the `nb_black` Jupyter extension. More information about the extension can be found on the extension's [Github page](https://github.com/dnanhkhoa/nb_black)."
   ]
  },
  {
   "cell_type": "code",
   "execution_count": 20,
   "metadata": {
    "ExecuteTime": {
     "end_time": "2020-11-04T03:13:32.521855Z",
     "start_time": "2020-11-04T03:13:32.509889Z"
    }
   },
   "outputs": [
    {
     "data": {
      "application/javascript": [
       "\n",
       "            setTimeout(function() {\n",
       "                var nbb_cell_id = 20;\n",
       "                var nbb_unformatted_code = \"# Load Notebook formatter\\n%load_ext nb_black\\n# %reload_ext nb_black\";\n",
       "                var nbb_formatted_code = \"# Load Notebook formatter\\n%load_ext nb_black\\n# %reload_ext nb_black\";\n",
       "                var nbb_cells = Jupyter.notebook.get_cells();\n",
       "                for (var i = 0; i < nbb_cells.length; ++i) {\n",
       "                    if (nbb_cells[i].input_prompt_number == nbb_cell_id) {\n",
       "                        if (nbb_cells[i].get_text() == nbb_unformatted_code) {\n",
       "                             nbb_cells[i].set_text(nbb_formatted_code);\n",
       "                        }\n",
       "                        break;\n",
       "                    }\n",
       "                }\n",
       "            }, 500);\n",
       "            "
      ],
      "text/plain": [
       "<IPython.core.display.Javascript object>"
      ]
     },
     "metadata": {},
     "output_type": "display_data"
    }
   ],
   "source": [
    "# Load Notebook formatter\n",
    "%load_ext nb_black\n",
    "# %reload_ext nb_black"
   ]
  },
  {
   "cell_type": "code",
   "execution_count": 21,
   "metadata": {
    "ExecuteTime": {
     "end_time": "2020-11-04T03:13:32.987956Z",
     "start_time": "2020-11-04T03:13:32.974955Z"
    }
   },
   "outputs": [
    {
     "data": {
      "application/javascript": [
       "\n",
       "            setTimeout(function() {\n",
       "                var nbb_cell_id = 21;\n",
       "                var nbb_unformatted_code = \"# Running the cell changes the layout of the function\\ndef example_function(first_parameter, second_parameter, third_parameter, fourth_parameter, fifth_parameter):\\n    \\\"\\\"\\\"Removes unnecessary characters from an import operations string.\\\"\\\"\\\"\\n    parameter_sum = first_parameter + second_parameter + third_parameter + fourth_parameter + fifth_parameter\\n    \\n    return parameter_sum\";\n",
       "                var nbb_formatted_code = \"# Running the cell changes the layout of the function\\ndef example_function(\\n    first_parameter,\\n    second_parameter,\\n    third_parameter,\\n    fourth_parameter,\\n    fifth_parameter,\\n):\\n    \\\"\\\"\\\"Removes unnecessary characters from an import operations string.\\\"\\\"\\\"\\n    parameter_sum = (\\n        first_parameter\\n        + second_parameter\\n        + third_parameter\\n        + fourth_parameter\\n        + fifth_parameter\\n    )\\n\\n    return parameter_sum\";\n",
       "                var nbb_cells = Jupyter.notebook.get_cells();\n",
       "                for (var i = 0; i < nbb_cells.length; ++i) {\n",
       "                    if (nbb_cells[i].input_prompt_number == nbb_cell_id) {\n",
       "                        if (nbb_cells[i].get_text() == nbb_unformatted_code) {\n",
       "                             nbb_cells[i].set_text(nbb_formatted_code);\n",
       "                        }\n",
       "                        break;\n",
       "                    }\n",
       "                }\n",
       "            }, 500);\n",
       "            "
      ],
      "text/plain": [
       "<IPython.core.display.Javascript object>"
      ]
     },
     "metadata": {},
     "output_type": "display_data"
    }
   ],
   "source": [
    "# Running the cell changes the layout of the function\n",
    "def example_function(first_parameter, second_parameter, third_parameter, fourth_parameter, fifth_parameter):\n",
    "    \"\"\"Removes unnecessary characters from an import operations string.\"\"\"\n",
    "    parameter_sum = first_parameter + second_parameter + third_parameter + fourth_parameter + fifth_parameter\n",
    "    \n",
    "    return parameter_sum"
   ]
  }
 ],
 "metadata": {
  "hide_input": false,
  "kernelspec": {
   "display_name": "Python 3",
   "language": "python",
   "name": "python3"
  },
  "language_info": {
   "codemirror_mode": {
    "name": "ipython",
    "version": 3
   },
   "file_extension": ".py",
   "mimetype": "text/x-python",
   "name": "python",
   "nbconvert_exporter": "python",
   "pygments_lexer": "ipython3",
   "version": "3.7.6"
  },
  "toc": {
   "base_numbering": 1,
   "nav_menu": {},
   "number_sections": true,
   "sideBar": true,
   "skip_h1_title": false,
   "title_cell": "Table of Contents",
   "title_sidebar": "Contents",
   "toc_cell": false,
   "toc_position": {},
   "toc_section_display": true,
   "toc_window_display": false
  },
  "varInspector": {
   "cols": {
    "lenName": 16,
    "lenType": 16,
    "lenVar": 40
   },
   "kernels_config": {
    "python": {
     "delete_cmd_postfix": "",
     "delete_cmd_prefix": "del ",
     "library": "var_list.py",
     "varRefreshCmd": "print(var_dic_list())"
    },
    "r": {
     "delete_cmd_postfix": ") ",
     "delete_cmd_prefix": "rm(",
     "library": "var_list.r",
     "varRefreshCmd": "cat(var_dic_list()) "
    }
   },
   "types_to_exclude": [
    "module",
    "function",
    "builtin_function_or_method",
    "instance",
    "_Feature"
   ],
   "window_display": false
  }
 },
 "nbformat": 4,
 "nbformat_minor": 4
}
